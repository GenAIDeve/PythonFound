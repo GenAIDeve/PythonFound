{
 "cells": [
  {
   "cell_type": "markdown",
   "metadata": {},
   "source": [
    "# identifying the need for functions\n",
    "# largest prime factor of 100\n",
    "#"
   ]
  },
  {
   "cell_type": "markdown",
   "metadata": {},
   "source": []
  },
  {
   "cell_type": "code",
   "execution_count": null,
   "metadata": {},
   "outputs": [],
   "source": [
    "# number = input ('enterthe number')\n",
    "number= 70\n"
   ]
  },
  {
   "cell_type": "code",
   "execution_count": 1,
   "metadata": {},
   "outputs": [],
   "source": [
    "# Defining functions\n",
    "def hello_to_functions():\n",
    "    print(\"hello\")"
   ]
  },
  {
   "cell_type": "code",
   "execution_count": 6,
   "metadata": {},
   "outputs": [
    {
     "name": "stdout",
     "output_type": "stream",
     "text": [
      "hello\n"
     ]
    },
    {
     "ename": "NameError",
     "evalue": "name 'hello_to_you' is not defined",
     "output_type": "error",
     "traceback": [
      "\u001b[1;31m---------------------------------------------------------------------------\u001b[0m",
      "\u001b[1;31mNameError\u001b[0m                                 Traceback (most recent call last)",
      "Cell \u001b[1;32mIn[6], line 3\u001b[0m\n\u001b[0;32m      1\u001b[0m \u001b[38;5;66;03m# caLL FUNCTION\u001b[39;00m\n\u001b[0;32m      2\u001b[0m hello_to_functions()\n\u001b[1;32m----> 3\u001b[0m \u001b[43mhello_to_you\u001b[49m(\u001b[38;5;124m\"\u001b[39m\u001b[38;5;124mYuvraj\u001b[39m\u001b[38;5;124m\"\u001b[39m)\n",
      "\u001b[1;31mNameError\u001b[0m: name 'hello_to_you' is not defined"
     ]
    }
   ],
   "source": [
    "# caLL FUNCTION\n",
    "hello_to_functions()\n",
    "hello_to_you(\"Yuvraj\")"
   ]
  },
  {
   "cell_type": "code",
   "execution_count": null,
   "metadata": {},
   "outputs": [],
   "source": [
    "# Defining functions\n",
    "def hello_to_functions():\n",
    "    print(\"hello\")\n",
    "\n",
    "# caLL FUNCTION\n",
    "hello_to_functions()\n",
    "hello_to_you(\"Yuvraj\")\n",
    "\n",
    "    #function with arguments\n",
    "def hello_to_you(name):\n",
    "    print(\"hello\",+name)\n",
    "\n",
    "# function with return values\n",
    "def add_numbers(a,b):\n",
    "    return a+b\n",
    "\n",
    "# function with default arguments and return values\n",
    "def multiply(a, b=2):\n",
    "    return a*b\n",
    "\n",
    "\n",
    "     \n",
    "\n"
   ]
  },
  {
   "cell_type": "code",
   "execution_count": null,
   "metadata": {},
   "outputs": [],
   "source": []
  }
 ],
 "metadata": {
  "kernelspec": {
   "display_name": "Python 3",
   "language": "python",
   "name": "python3"
  },
  "language_info": {
   "codemirror_mode": {
    "name": "ipython",
    "version": 3
   },
   "file_extension": ".py",
   "mimetype": "text/x-python",
   "name": "python",
   "nbconvert_exporter": "python",
   "pygments_lexer": "ipython3",
   "version": "3.11.9"
  }
 },
 "nbformat": 4,
 "nbformat_minor": 2
}
