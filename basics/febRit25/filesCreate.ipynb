{
 "cells": [
  {
   "cell_type": "code",
   "execution_count": null,
   "metadata": {},
   "outputs": [],
   "source": [
    "# Files\n"
   ]
  },
  {
   "cell_type": "code",
   "execution_count": 21,
   "metadata": {},
   "outputs": [],
   "source": [
    "even_numbers = [number for number in range(10,20) if number % 2 == 0]"
   ]
  },
  {
   "cell_type": "code",
   "execution_count": 28,
   "metadata": {},
   "outputs": [],
   "source": [
    "files = open(\"even_num.text\", \"w\")  # w is for write # open \"even_num.text\"will cereate a file cehck left in the folder\n",
    "for number in even_numbers:\n",
    "    files.write(f\"{number}  is even \\n\")\n",
    "files.close()\n"
   ]
  },
  {
   "cell_type": "code",
   "execution_count": 29,
   "metadata": {},
   "outputs": [
    {
     "name": "stdout",
     "output_type": "stream",
     "text": [
      "10  is even \n",
      "\n",
      "12  is even \n",
      "\n",
      "14  is even \n",
      "\n",
      "16  is even \n",
      "\n",
      "18  is even \n",
      "\n"
     ]
    }
   ],
   "source": [
    "#lets read the file\n",
    "file = open(\"even_num.text\", \"r\")\n",
    "for line in file.readlines():\n",
    "    if line.strip() != \"\":\n",
    "        print(line)\n"
   ]
  }
 ],
 "metadata": {
  "kernelspec": {
   "display_name": "Python 3",
   "language": "python",
   "name": "python3"
  },
  "language_info": {
   "codemirror_mode": {
    "name": "ipython",
    "version": 3
   },
   "file_extension": ".py",
   "mimetype": "text/x-python",
   "name": "python",
   "nbconvert_exporter": "python",
   "pygments_lexer": "ipython3",
   "version": "3.11.9"
  }
 },
 "nbformat": 4,
 "nbformat_minor": 2
}
