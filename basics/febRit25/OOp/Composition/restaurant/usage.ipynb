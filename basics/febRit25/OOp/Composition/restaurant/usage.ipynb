{
 "cells": [
  {
   "cell_type": "code",
   "execution_count": null,
   "metadata": {},
   "outputs": [],
   "source": [
    "from restaurant .restaurant import Restaurant"
   ]
  },
  {
   "cell_type": "markdown",
   "metadata": {},
   "source": []
  },
  {
   "cell_type": "code",
   "execution_count": null,
   "metadata": {},
   "outputs": [],
   "source": [
    "#lets create pista houise restaurant\n",
    "pist_huse = Restaurant(\"pistahouse\")"
   ]
  },
  {
   "cell_type": "code",
   "execution_count": null,
   "metadata": {},
   "outputs": [],
   "source": [
    "# lets update addree of pista house\n",
    "from restaurant.utils import address \n",
    "address =Address()\n",
    "pista_house.update_address()"
   ]
  },
  {
   "cell_type": "code",
   "execution_count": null,
   "metadata": {},
   "outputs": [],
   "source": [
    "#lets add haleem and royalcahi to the menu\n",
    "from restaurant.food import Fooditem\n",
    "pasta=Fooditem(1,\"pasta\", 250,\"special\")\n",
    "chai=Fooditem(2,\"chai\",20,\"hot beverage\")\n",
    "pista_house.add_food_items((pasta, chai))"
   ]
  },
  {
   "cell_type": "code",
   "execution_count": null,
   "metadata": {},
   "outputs": [],
   "source": [
    "pista_house.menu.get_all_items()"
   ]
  }
 ],
 "metadata": {
  "kernelspec": {
   "display_name": "Python 3",
   "language": "python",
   "name": "python3"
  },
  "language_info": {
   "name": "python",
   "version": "3.11.9"
  }
 },
 "nbformat": 4,
 "nbformat_minor": 2
}
