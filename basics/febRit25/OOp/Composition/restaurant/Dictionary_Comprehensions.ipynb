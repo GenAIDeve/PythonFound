{
 "cells": [
  {
   "cell_type": "markdown",
   "metadata": {},
   "source": [
    "#Dictionary_Comprehensions\n"
   ]
  },
  {
   "cell_type": "code",
   "execution_count": 3,
   "metadata": {},
   "outputs": [],
   "source": [
    "numbers = [1,2,3,4,5,6]"
   ]
  },
  {
   "cell_type": "code",
   "execution_count": 4,
   "metadata": {},
   "outputs": [
    {
     "data": {
      "text/plain": [
       "{1: 1, 2: 4, 3: 9, 4: 16, 5: 25, 6: 36}"
      ]
     },
     "execution_count": 4,
     "metadata": {},
     "output_type": "execute_result"
    }
   ],
   "source": [
    "# Create a Dictionary with Key as number and value as square of the number\n",
    "square_dict = dict()\n",
    "for number in numbers:\n",
    "    square_dict[number] = number * number\n",
    "square_dict\n"
   ]
  },
  {
   "cell_type": "code",
   "execution_count": 7,
   "metadata": {},
   "outputs": [
    {
     "data": {
      "text/plain": [
       "{1: 1, 2: 4, 3: 9, 4: 16, 5: 25, 6: 36}"
      ]
     },
     "execution_count": 7,
     "metadata": {},
     "output_type": "execute_result"
    }
   ],
   "source": [
    "# comprehension\n",
    "{number: number*number for number in numbers}\n"
   ]
  },
  {
   "cell_type": "code",
   "execution_count": 12,
   "metadata": {},
   "outputs": [
    {
     "data": {
      "text/plain": [
       "{2: 4, 4: 16, 6: 36}"
      ]
     },
     "execution_count": 12,
     "metadata": {},
     "output_type": "execute_result"
    }
   ],
   "source": [
    "# I want a dictionary with key as even number and value as square of the even number\n",
    "square_dict = dict()\n",
    "for number in numbers:\n",
    "    if number % 2 == 0:\n",
    "        square_dict[number] = number * number\n",
    "square_dict"
   ]
  },
  {
   "cell_type": "code",
   "execution_count": 13,
   "metadata": {},
   "outputs": [
    {
     "data": {
      "text/plain": [
       "{2: 4, 4: 16, 6: 36}"
      ]
     },
     "execution_count": 13,
     "metadata": {},
     "output_type": "execute_result"
    }
   ],
   "source": [
    "{number: number * number for number in numbers if number % 2 ==0 }"
   ]
  },
  {
   "cell_type": "code",
   "execution_count": 25,
   "metadata": {},
   "outputs": [],
   "source": [
    "message = \"\"\"The United States is facing a critical shortage of skilled workers, \n",
    "particularly in STEM fields. The country is expected to need around 1 million \n",
    "additional STEM professionals between 2023 and 2033, with tech job growth \n",
    "outpacing the overall workforce, according to the Bureau of Labor Statistics.\n",
    "\"\"\""
   ]
  },
  {
   "cell_type": "code",
   "execution_count": 26,
   "metadata": {},
   "outputs": [
    {
     "data": {
      "text/plain": [
       "{'expected': 1,\n",
       " '2023': 1,\n",
       " '1': 1,\n",
       " 'tech': 1,\n",
       " 'overall': 1,\n",
       " 'outpacing': 1,\n",
       " 'United': 1,\n",
       " 'Labor': 1,\n",
       " 'STEM': 2,\n",
       " 'need': 1,\n",
       " 'shortage': 1,\n",
       " 'with': 1,\n",
       " 'between': 1,\n",
       " 'is': 2,\n",
       " 'professionals': 1,\n",
       " 'and': 1,\n",
       " 'Statistics.': 1,\n",
       " 'additional': 1,\n",
       " 'growth': 1,\n",
       " 'the': 2,\n",
       " 'in': 1,\n",
       " 'particularly': 1,\n",
       " 'fields.': 1,\n",
       " 'around': 1,\n",
       " 'to': 2,\n",
       " 'workers,': 1,\n",
       " 'critical': 1,\n",
       " 'skilled': 1,\n",
       " 'The': 2,\n",
       " 'workforce,': 1,\n",
       " '2033,': 1,\n",
       " 'million': 1,\n",
       " 'States': 1,\n",
       " 'job': 1,\n",
       " 'facing': 1,\n",
       " 'country': 1,\n",
       " 'according': 1,\n",
       " 'of': 2,\n",
       " 'Bureau': 1,\n",
       " 'a': 1}"
      ]
     },
     "execution_count": 26,
     "metadata": {},
     "output_type": "execute_result"
    }
   ],
   "source": [
    "# find thw work frequency\n",
    "words = message.split()\n",
    "frequency_dict = dict()\n",
    "unique_words = set(words)\n",
    "for unique_words in unique_words:\n",
    "        frequency_dict[unique_words]=words.count(unique_words)\n",
    "frequency_dict"
   ]
  },
  {
   "cell_type": "code",
   "execution_count": 28,
   "metadata": {},
   "outputs": [
    {
     "data": {
      "text/plain": [
       "{'expected': 1,\n",
       " '2023': 1,\n",
       " '1': 1,\n",
       " 'tech': 1,\n",
       " 'overall': 1,\n",
       " 'outpacing': 1,\n",
       " 'United': 1,\n",
       " 'Labor': 1,\n",
       " 'STEM': 2,\n",
       " 'need': 1,\n",
       " 'shortage': 1,\n",
       " 'with': 1,\n",
       " 'between': 1,\n",
       " 'is': 2,\n",
       " 'professionals': 1,\n",
       " 'and': 1,\n",
       " 'Statistics.': 1,\n",
       " 'additional': 1,\n",
       " 'growth': 1,\n",
       " 'the': 2,\n",
       " 'in': 1,\n",
       " 'particularly': 1,\n",
       " 'fields.': 1,\n",
       " 'around': 1,\n",
       " 'to': 2,\n",
       " 'workers,': 1,\n",
       " 'critical': 1,\n",
       " 'skilled': 1,\n",
       " 'The': 2,\n",
       " 'workforce,': 1,\n",
       " '2033,': 1,\n",
       " 'million': 1,\n",
       " 'States': 1,\n",
       " 'job': 1,\n",
       " 'facing': 1,\n",
       " 'country': 1,\n",
       " 'according': 1,\n",
       " 'of': 2,\n",
       " 'Bureau': 1,\n",
       " 'a': 1}"
      ]
     },
     "execution_count": 28,
     "metadata": {},
     "output_type": "execute_result"
    }
   ],
   "source": [
    "# comprehension\n",
    "words = message.split()\n",
    "{word: words.count(word) for word in set(words)}"
   ]
  },
  {
   "cell_type": "code",
   "execution_count": 29,
   "metadata": {},
   "outputs": [],
   "source": [
    "colors_dict = { 'red':1, 'blue':2, 'green':3 }\n",
    "#swap keys and values\n"
   ]
  },
  {
   "cell_type": "code",
   "execution_count": 30,
   "metadata": {},
   "outputs": [
    {
     "data": {
      "text/plain": [
       "{1: 'red', 2: 'blue', 3: 'green'}"
      ]
     },
     "execution_count": 30,
     "metadata": {},
     "output_type": "execute_result"
    }
   ],
   "source": [
    "# rtaditional approach\n",
    "reverse_dict = dict ()\n",
    "for color,number in colors_dict.items():\n",
    "        reverse_dict[number] = color\n",
    "reverse_dict"
   ]
  },
  {
   "cell_type": "code",
   "execution_count": 31,
   "metadata": {},
   "outputs": [
    {
     "data": {
      "text/plain": [
       "{1: 'red', 2: 'blue', 3: 'green'}"
      ]
     },
     "execution_count": 31,
     "metadata": {},
     "output_type": "execute_result"
    }
   ],
   "source": [
    "{ number: color for color, number in colors_dict.items()}"
   ]
  },
  {
   "cell_type": "code",
   "execution_count": 32,
   "metadata": {},
   "outputs": [],
   "source": [
    "#Zip\n",
    "subjects = ['M','P','C','E','T']\n",
    "marks = [100,100,100,100,99]\n"
   ]
  },
  {
   "cell_type": "code",
   "execution_count": 33,
   "metadata": {},
   "outputs": [
    {
     "data": {
      "text/plain": [
       "{'M': 100, 'P': 100, 'C': 100, 'E': 100, 'T': 99}"
      ]
     },
     "execution_count": 33,
     "metadata": {},
     "output_type": "execute_result"
    }
   ],
   "source": [
    "dict(zip(subjects,marks))"
   ]
  },
  {
   "cell_type": "code",
   "execution_count": 3,
   "metadata": {},
   "outputs": [
    {
     "data": {
      "text/plain": [
       "25"
      ]
     },
     "execution_count": 3,
     "metadata": {},
     "output_type": "execute_result"
    }
   ],
   "source": [
    "#Anonymous function in python\n",
    "def square(number):\n",
    "    return number * number\n",
    "square(5)\n"
   ]
  },
  {
   "cell_type": "code",
   "execution_count": 4,
   "metadata": {},
   "outputs": [
    {
     "data": {
      "text/plain": [
       "25"
      ]
     },
     "execution_count": 4,
     "metadata": {},
     "output_type": "execute_result"
    }
   ],
   "source": [
    "square =  lambda number : number * number\n",
    "square(5)"
   ]
  },
  {
   "cell_type": "code",
   "execution_count": 6,
   "metadata": {},
   "outputs": [
    {
     "name": "stdout",
     "output_type": "stream",
     "text": [
      "this is wonderful articles\n",
      "['this', 'is', 'wonderful', 'articles']\n",
      "26\n"
     ]
    }
   ],
   "source": [
    "article_1 = \"this is wonderful articles\"\n",
    "\n",
    "# To verify the content of the variable, you can print it:\n",
    "print(article_1)\n",
    "print(article_1.split())\n",
    "#print(article_1.split(\" \"))\n",
    "print(len(article_1))\n",
    "\n"
   ]
  },
  {
   "cell_type": "code",
   "execution_count": 16,
   "metadata": {},
   "outputs": [
    {
     "name": "stdout",
     "output_type": "stream",
     "text": [
      "['This is a wonderful article.', 'Python is a versatile programming language.', 'Learning Python can be very rewarding.', 'Python is widely used in data science.', \"It's also popular for web development.\", 'Many libraries make Python easy to use.', 'Python has a large and supportive community.', 'The language is constantly evolving.', 'New features are added regularly.', 'Overall, Python is a great choice for beginners.']\n"
     ]
    }
   ],
   "source": [
    "# Create variables with text\n",
    "article_1 = \"This is a wonderful article.\"\n",
    "article_2 = \"Python is a versatile programming language.\"\n",
    "article_3 = \"Learning Python can be very rewarding.\"\n",
    "article_4 = \"Python is widely used in data science.\"\n",
    "article_5 = \"It's also popular for web development.\"\n",
    "article_6 = \"Many libraries make Python easy to use.\"\n",
    "article_7 = \"Python has a large and supportive community.\"\n",
    "article_8 = \"The language is constantly evolving.\"\n",
    "article_9 = \"New features are added regularly.\"\n",
    "article_10 = \"Overall, Python is a great choice for beginners.\"\n",
    "\n",
    "# Combine the variables into a list\n",
    "articles = [\n",
    "    article_1,\n",
    "    article_2,\n",
    "    article_3,\n",
    "    article_4,\n",
    "    article_5,\n",
    "    article_6,\n",
    "    article_7,\n",
    "    article_8,\n",
    "    article_9,\n",
    "    article_10\n",
    "]\n",
    "\n",
    "# Print the list\n",
    "print(articles)\n"
   ]
  },
  {
   "cell_type": "code",
   "execution_count": 19,
   "metadata": {},
   "outputs": [
    {
     "data": {
      "text/plain": [
       "[28, 43, 38, 38, 38, 39, 44, 36, 33, 48]"
      ]
     },
     "execution_count": 19,
     "metadata": {},
     "output_type": "execute_result"
    }
   ],
   "source": [
    "list(map(len, articles))\n"
   ]
  },
  {
   "cell_type": "code",
   "execution_count": 20,
   "metadata": {},
   "outputs": [
    {
     "data": {
      "text/plain": [
       "385"
      ]
     },
     "execution_count": 20,
     "metadata": {},
     "output_type": "execute_result"
    }
   ],
   "source": [
    "import functools\n",
    "functools.reduce(lambda x,y:x+y, list(map(len, articles)))"
   ]
  },
  {
   "cell_type": "code",
   "execution_count": 21,
   "metadata": {},
   "outputs": [
    {
     "data": {
      "text/plain": [
       "2250"
      ]
     },
     "execution_count": 21,
     "metadata": {},
     "output_type": "execute_result"
    }
   ],
   "source": [
    "sales_dict={\n",
    "    'branch_1': 250,\n",
    "    'branch_2': 350,\n",
    "    'branch_3': 450,\n",
    "    'branch_4': 550,\n",
    "    'branch_5': 650\n",
    "}   \n",
    "# Find the total sales\n",
    "sum(sales_dict.values())\n"
   ]
  },
  {
   "cell_type": "code",
   "execution_count": 25,
   "metadata": {},
   "outputs": [
    {
     "data": {
      "text/plain": [
       "650"
      ]
     },
     "execution_count": 25,
     "metadata": {},
     "output_type": "execute_result"
    }
   ],
   "source": [
    "functools.reduce(lambda x,y:x+y, sales_dict.values())\n",
    "# Find the average sales\n",
    "sum(sales_dict.values())/len(sales_dict)\n",
    "# Find the maximum sales\n",
    "max(sales_dict.values())\n",
    "\n"
   ]
  },
  {
   "cell_type": "code",
   "execution_count": 26,
   "metadata": {},
   "outputs": [
    {
     "data": {
      "text/plain": [
       "('branch_1',\n",
       " 250,\n",
       " 'branch_2',\n",
       " 350,\n",
       " 'branch_3',\n",
       " 450,\n",
       " 'branch_4',\n",
       " 550,\n",
       " 'branch_5',\n",
       " 650)"
      ]
     },
     "execution_count": 26,
     "metadata": {},
     "output_type": "execute_result"
    }
   ],
   "source": [
    "functools.reduce(lambda x,y:x+y, sales_dict.items())"
   ]
  },
  {
   "cell_type": "code",
   "execution_count": 27,
   "metadata": {},
   "outputs": [
    {
     "data": {
      "text/plain": [
       "<filter at 0x20276dde980>"
      ]
     },
     "execution_count": 27,
     "metadata": {},
     "output_type": "execute_result"
    }
   ],
   "source": [
    "filter(lambda x,y : x[1] > 400, sales_dict.items())"
   ]
  },
  {
   "cell_type": "code",
   "execution_count": 32,
   "metadata": {},
   "outputs": [
    {
     "data": {
      "text/plain": [
       "1650"
      ]
     },
     "execution_count": 32,
     "metadata": {},
     "output_type": "execute_result"
    }
   ],
   "source": [
    "sum([value for key,value in sales_dict.items() if value > 400])"
   ]
  },
  {
   "cell_type": "code",
   "execution_count": 34,
   "metadata": {},
   "outputs": [
    {
     "data": {
      "text/plain": [
       "1650"
      ]
     },
     "execution_count": 34,
     "metadata": {},
     "output_type": "execute_result"
    }
   ],
   "source": [
    "functools.reduce(lambda x,y:x+y, [value for key,value in sales_dict.items() if value > 400])"
   ]
  },
  {
   "cell_type": "code",
   "execution_count": null,
   "metadata": {},
   "outputs": [],
   "source": [
    "sum(sales_dict.values())"
   ]
  },
  {
   "cell_type": "code",
   "execution_count": 36,
   "metadata": {},
   "outputs": [
    {
     "data": {
      "text/plain": [
       "{}"
      ]
     },
     "execution_count": 36,
     "metadata": {},
     "output_type": "execute_result"
    }
   ],
   "source": [
    "{ key: value for key, value in sales_dict.items() if value >1000}"
   ]
  }
 ],
 "metadata": {
  "kernelspec": {
   "display_name": "Python 3",
   "language": "python",
   "name": "python3"
  },
  "language_info": {
   "codemirror_mode": {
    "name": "ipython",
    "version": 3
   },
   "file_extension": ".py",
   "mimetype": "text/x-python",
   "name": "python",
   "nbconvert_exporter": "python",
   "pygments_lexer": "ipython3",
   "version": "3.11.9"
  }
 },
 "nbformat": 4,
 "nbformat_minor": 2
}
