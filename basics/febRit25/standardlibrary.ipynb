{
 "cells": [
  {
   "cell_type": "code",
   "execution_count": null,
   "metadata": {},
   "outputs": [],
   "source": [
    "#python standard library\n",
    "\n",
    "#date time functionality\n",
    "datetime\n",
    "\n"
   ]
  },
  {
   "cell_type": "code",
   "execution_count": 3,
   "metadata": {},
   "outputs": [
    {
     "data": {
      "text/plain": [
       "'2025-03-20 23:16:56'"
      ]
     },
     "execution_count": 3,
     "metadata": {},
     "output_type": "execute_result"
    }
   ],
   "source": [
    "# lets find the current date ti,me\n",
    "datetime.datetime.now()\n",
    "datetime.datetime.strftime(datetime.datetime.now(), '%Y-%m-%d %H:%M:%S')"
   ]
  },
  {
   "cell_type": "code",
   "execution_count": 9,
   "metadata": {},
   "outputs": [
    {
     "data": {
      "text/plain": [
       "'2025-03-20'"
      ]
     },
     "execution_count": 9,
     "metadata": {},
     "output_type": "execute_result"
    }
   ],
   "source": [
    "now = datetime.datetime.now()\n",
    "now.strftime('%Y-%m-%d')"
   ]
  },
  {
   "cell_type": "code",
   "execution_count": 14,
   "metadata": {},
   "outputs": [
    {
     "data": {
      "text/plain": [
       "datetime.timedelta(days=366)"
      ]
     },
     "execution_count": 14,
     "metadata": {},
     "output_type": "execute_result"
    }
   ],
   "source": [
    "date_1=\"03/16/2023\"\n",
    "date_2=\"03/16/2024\"\n",
    "\n",
    "#find out the number of days between date_1 and date_2\n",
    "#convert the string to date and calculate the difference\n",
    "\n",
    "date_1 = datetime.datetime.strptime(date_1, '%m/%d/%Y')\n",
    "date_2 = datetime.datetime.strptime(date_2, '%m/%d/%Y')\n",
    "\n",
    "date_2 - date_1\n",
    "\n",
    "#find out the number of days between date_1 and date_2\n",
    "#convert the string to date and calculate the difference\n"
   ]
  },
  {
   "cell_type": "code",
   "execution_count": null,
   "metadata": {},
   "outputs": [],
   "source": []
  },
  {
   "cell_type": "code",
   "execution_count": 19,
   "metadata": {},
   "outputs": [],
   "source": [
    "def age(birthdate:str)->int:\n",
    "    \"\"\"\"This method returns the age when the date is passed\n",
    "    Args :\n",
    "        birthdate : str : The date will be passed in 'YYYY-MM-DD'\n",
    "    Returns:\n",
    "        int : The age \n",
    "\n",
    "    \"\"\"\n",
    "    birthdate = datetime.datetime.strptime(birthdate, '%Y-%m-%d')\n",
    "    today = datetime.datetime.now()\n",
    "    return today.year - birthdate.year - ((today.month, today.day) < (birthdate.month, birthdate.day))"
   ]
  }
 ],
 "metadata": {
  "kernelspec": {
   "display_name": "Python 3",
   "language": "python",
   "name": "python3"
  },
  "language_info": {
   "codemirror_mode": {
    "name": "ipython",
    "version": 3
   },
   "file_extension": ".py",
   "mimetype": "text/x-python",
   "name": "python",
   "nbconvert_exporter": "python",
   "pygments_lexer": "ipython3",
   "version": "3.11.9"
  }
 },
 "nbformat": 4,
 "nbformat_minor": 2
}
