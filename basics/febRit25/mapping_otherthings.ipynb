{
 "cells": [
  {
   "cell_type": "markdown",
   "metadata": {},
   "source": [
    "# dictionary\n"
   ]
  },
  {
   "cell_type": "code",
   "execution_count": 6,
   "metadata": {},
   "outputs": [
    {
     "data": {
      "text/plain": [
       "dict"
      ]
     },
     "execution_count": 6,
     "metadata": {},
     "output_type": "execute_result"
    }
   ],
   "source": [
    "address = {\n",
    "    'flatno': 601,\n",
    "    'building': 'Nilgiri block',\n",
    "    'area ':'Ameerpet'\n",
    "}\n",
    "\n",
    "address['flatno']\n",
    "address\n",
    "type(address)"
   ]
  },
  {
   "cell_type": "code",
   "execution_count": 7,
   "metadata": {},
   "outputs": [
    {
     "data": {
      "text/plain": [
       "{'flatno': 601, 'building': 'Nilgiri block', 'area ': 'Ameerpet'}"
      ]
     },
     "execution_count": 7,
     "metadata": {},
     "output_type": "execute_result"
    }
   ],
   "source": [
    "address\n",
    "\n"
   ]
  },
  {
   "cell_type": "code",
   "execution_count": 8,
   "metadata": {},
   "outputs": [
    {
     "name": "stdout",
     "output_type": "stream",
     "text": [
      "601\n",
      "Nilgiri block\n",
      "Ameerpet\n"
     ]
    }
   ],
   "source": [
    "for item in address.values():\n",
    "    print(item)"
   ]
  },
  {
   "cell_type": "code",
   "execution_count": 10,
   "metadata": {},
   "outputs": [
    {
     "name": "stdout",
     "output_type": "stream",
     "text": [
      "flatno=601\n",
      "building=Nilgiri block\n",
      "area =Ameerpet\n"
     ]
    }
   ],
   "source": [
    "for name , value in address.items():\n",
    "    print(f\"{name}={value}\")"
   ]
  },
  {
   "cell_type": "code",
   "execution_count": 22,
   "metadata": {},
   "outputs": [
    {
     "ename": "KeyError",
     "evalue": "'e'",
     "output_type": "error",
     "traceback": [
      "\u001b[1;31m---------------------------------------------------------------------------\u001b[0m",
      "\u001b[1;31mKeyError\u001b[0m                                  Traceback (most recent call last)",
      "Cell \u001b[1;32mIn[22], line 9\u001b[0m\n\u001b[0;32m      7\u001b[0m         char_count_dict[char] \u001b[38;5;241m=\u001b[39m \u001b[38;5;241m1\u001b[39m \n\u001b[0;32m      8\u001b[0m     \u001b[38;5;28;01melse\u001b[39;00m:\n\u001b[1;32m----> 9\u001b[0m          \u001b[43mchar_count_dict\u001b[49m\u001b[43m[\u001b[49m\u001b[43mchar\u001b[49m\u001b[43m]\u001b[49m \u001b[38;5;241m+\u001b[39m\u001b[38;5;241m=\u001b[39m \u001b[38;5;241m1\u001b[39m\n\u001b[0;32m     10\u001b[0m \u001b[38;5;28mprint\u001b[39m (char_count_dict)\n",
      "\u001b[1;31mKeyError\u001b[0m: 'e'"
     ]
    }
   ],
   "source": [
    "# find number of occurances of each character in the word\n",
    "#from khaja \n",
    "message = \"excellence is not a skill, its an attitude\"\n",
    "char_count_dict = {}\n",
    "for char in message:\n",
    "    if char in char_count_dict:\n",
    "        char_count_dict[char] = 1 \n",
    "    else:\n",
    "         char_count_dict[char] += 1\n",
    "print (char_count_dict)\n"
   ]
  },
  {
   "cell_type": "code",
   "execution_count": null,
   "metadata": {},
   "outputs": [],
   "source": [
    "# find number of occurances of each character in the word\n",
    "# this all auto generated code\n",
    "\n",
    "message = \"excellence is not a skill, its an attitude\"\n",
    "char_count_dict =dict\n",
    "for char in message:\n",
    "    if char in char_count_dict:\n",
    "        char_count_dict[char] += 1  # increment the count   \n",
    "    else:\n",
    "        char_count_dict[char] = 1\n",
    "print(char_count_dict)\n",
    "\n",
    "# find number of occurances of each character in the word   using get method        \n",
    "message = \"excellence is not a skill, its an attitude\"\n",
    "char_count_dict =dict()\n",
    "for char in message:\n",
    "    char_count_dict[char] = char_count_dict.get(char,0) + 1\n",
    "print(char_count_dict)\n",
    "\n",
    "\n",
    "# find number of occurances of each character in the word   using setdefault method\n",
    "message = \"excellence is not a skill, its an attitude\"\n",
    "char_count_dict =dict()\n",
    "\n",
    "for char in message:\n",
    "    char_count_dict.setdefault(char,0)\n",
    "    char_count_dict[char] += 1\n",
    "print(char_count_dict)\n",
    "\n",
    "# find number of occurances of each character in the word   using setdefault method\n",
    "message = \"excellence is not a skill, its an attitude\"\n",
    "\n",
    "char_count_dict =dict()\n",
    "for char in message:\n",
    "    char_count_dict.setdefault(char,0)\n",
    "    char_count_dict[char] += 1\n",
    "print(char_count_dict)\n",
    "\n"
   ]
  },
  {
   "cell_type": "code",
   "execution_count": null,
   "metadata": {},
   "outputs": [],
   "source": []
  }
 ],
 "metadata": {
  "kernelspec": {
   "display_name": "Python 3",
   "language": "python",
   "name": "python3"
  },
  "language_info": {
   "codemirror_mode": {
    "name": "ipython",
    "version": 3
   },
   "file_extension": ".py",
   "mimetype": "text/x-python",
   "name": "python",
   "nbconvert_exporter": "python",
   "pygments_lexer": "ipython3",
   "version": "3.11.9"
  }
 },
 "nbformat": 4,
 "nbformat_minor": 2
}
