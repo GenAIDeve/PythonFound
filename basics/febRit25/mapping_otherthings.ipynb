{
 "cells": [
  {
   "cell_type": "markdown",
   "metadata": {},
   "source": [
    "# dictionary\n"
   ]
  },
  {
   "cell_type": "code",
   "execution_count": 6,
   "metadata": {},
   "outputs": [
    {
     "data": {
      "text/plain": [
       "dict"
      ]
     },
     "execution_count": 6,
     "metadata": {},
     "output_type": "execute_result"
    }
   ],
   "source": [
    "address = {\n",
    "    'flatno': 601,\n",
    "    'building': 'Nilgiri block',\n",
    "    'area ':'Ameerpet'\n",
    "}\n",
    "\n",
    "address['flatno']\n",
    "address\n",
    "type(address)"
   ]
  },
  {
   "cell_type": "code",
   "execution_count": 7,
   "metadata": {},
   "outputs": [
    {
     "data": {
      "text/plain": [
       "{'flatno': 601, 'building': 'Nilgiri block', 'area ': 'Ameerpet'}"
      ]
     },
     "execution_count": 7,
     "metadata": {},
     "output_type": "execute_result"
    }
   ],
   "source": [
    "address\n",
    "\n"
   ]
  },
  {
   "cell_type": "code",
   "execution_count": 8,
   "metadata": {},
   "outputs": [
    {
     "name": "stdout",
     "output_type": "stream",
     "text": [
      "601\n",
      "Nilgiri block\n",
      "Ameerpet\n"
     ]
    }
   ],
   "source": [
    "for item in address.values():\n",
    "    print(item)"
   ]
  },
  {
   "cell_type": "code",
   "execution_count": 10,
   "metadata": {},
   "outputs": [
    {
     "name": "stdout",
     "output_type": "stream",
     "text": [
      "flatno=601\n",
      "building=Nilgiri block\n",
      "area =Ameerpet\n"
     ]
    }
   ],
   "source": [
    "for name , value in address.items():\n",
    "    print(f\"{name}={value}\")"
   ]
  },
  {
   "cell_type": "code",
   "execution_count": 28,
   "metadata": {},
   "outputs": [
    {
     "name": "stdout",
     "output_type": "stream",
     "text": [
      "{'e': 5, 'x': 1, 'c': 2, 'l': 4, 'n': 3, ' ': 7, 'i': 4, 's': 3, 'o': 1, 't': 5, 'a': 3, 'k': 1, ',': 1, 'u': 1, 'd': 1}\n"
     ]
    }
   ],
   "source": [
    "# find number of occurances of each character in the word\n",
    "#from khaja \n",
    "message = \"excellence is not a skill, its an attitude\"\n",
    "char_count_dict = {}\n",
    "for char in message:\n",
    "    if char not in char_count_dict:\n",
    "        char_count_dict[char] = 1 \n",
    "    else:\n",
    "         char_count_dict[char] += 1\n",
    "print (char_count_dict)\n"
   ]
  },
  {
   "cell_type": "code",
   "execution_count": 34,
   "metadata": {},
   "outputs": [
    {
     "name": "stdout",
     "output_type": "stream",
     "text": [
      "{'e': 5, 'x': 1, 'c': 2, 'l': 4, 'n': 3, ' ': 7, 'i': 4, 's': 3, 'o': 1, 't': 5, 'a': 3, 'k': 1, ',': 1, 'u': 1, 'd': 1}\n",
      "{'e': 5, 'x': 1, 'c': 2, 'l': 4, 'n': 3, ' ': 7, 'i': 4, 's': 3, 'o': 1, 't': 5, 'a': 3, 'k': 1, ',': 1, 'u': 1, 'd': 1}\n",
      "{'e': 5, 'x': 1, 'c': 2, 'l': 4, 'n': 3, ' ': 7, 'i': 4, 's': 3, 'o': 1, 't': 5, 'a': 3, 'k': 1, ',': 1, 'u': 1, 'd': 1}\n",
      "{'e': 5, 'x': 1, 'c': 2, 'l': 4, 'n': 3, ' ': 7, 'i': 4, 's': 3, 'o': 1, 't': 5, 'a': 3, 'k': 1, ',': 1, 'u': 1, 'd': 1}\n"
     ]
    }
   ],
   "source": [
    "# find number of occurances of each character in the word\n",
    "# this all auto generated code\n",
    "\n",
    "message = \"excellence is not a skill, its an attitude\"\n",
    "char_count_dict ={}\n",
    "for char in message:\n",
    "    if char in char_count_dict:\n",
    "        char_count_dict[char] += 1  # increment the count   \n",
    "    else:\n",
    "        char_count_dict[char] = 1\n",
    "print(char_count_dict)\n",
    "\n",
    "# find number of occurances of each character in the word   using get method        \n",
    "message = \"excellence is not a skill, its an attitude\"\n",
    "char_count_dict =dict()\n",
    "for char in message:\n",
    "    char_count_dict[char] = char_count_dict.get(char,0) + 1\n",
    "print(char_count_dict)\n",
    "\n",
    "\n",
    "# find number of occurances of each character in the word   using setdefault method\n",
    "message = \"excellence is not a skill, its an attitude\"\n",
    "char_count_dict =dict()\n",
    "\n",
    "for char in message:\n",
    "    char_count_dict.setdefault(char,0)\n",
    "    char_count_dict[char] += 1\n",
    "print(char_count_dict)\n",
    "\n",
    "# find number of occurances of each character in the word   using setdefault method\n",
    "message = \"excellence is not a skill, its an attitude\"\n",
    "\n",
    "char_count_dict =dict()\n",
    "for char in message:\n",
    "    char_count_dict.setdefault(char,0)\n",
    "    char_count_dict[char] += 1\n",
    "print(char_count_dict)\n",
    "\n"
   ]
  },
  {
   "cell_type": "code",
   "execution_count": 37,
   "metadata": {},
   "outputs": [
    {
     "name": "stdout",
     "output_type": "stream",
     "text": [
      "[1, 2, 3, 4]\n",
      "(1, 2, 3, 4)\n",
      "{1, 2, 3, 4}\n"
     ]
    }
   ],
   "source": [
    "# set \n",
    "# '''\n",
    "# this is unique collectionb of values\n",
    "# list is collection of values\n",
    "items_list =[1,2,3,4]\n",
    "items_tuple=(1,2,3,4)\n",
    "items_set ={1,2,3,4}\n",
    "print(items_list)\n",
    "print(items_tuple)\n",
    "print(items_set)"
   ]
  },
  {
   "cell_type": "code",
   "execution_count": null,
   "metadata": {},
   "outputs": [
    {
     "data": {
      "text/plain": [
       "{1, 2, 3}"
      ]
     },
     "execution_count": 38,
     "metadata": {},
     "output_type": "execute_result"
    }
   ],
   "source": [
    "items_list =[1,2,3,3]\n",
    "items_tuple=(1,2,3,3)\n",
    "items_set ={1,2,3,3}\n",
    "\n",
    "items_list\n",
    "items_tuple\n",
    "items_set # set will remove the duplicates"
   ]
  },
  {
   "cell_type": "code",
   "execution_count": null,
   "metadata": {},
   "outputs": [
    {
     "data": {
      "text/plain": [
       "(1, 2, 3, 3)"
      ]
     },
     "execution_count": 39,
     "metadata": {},
     "output_type": "execute_result"
    }
   ],
   "source": [
    "items_tuple  #it wiil not remove the duplicate values"
   ]
  },
  {
   "cell_type": "code",
   "execution_count": null,
   "metadata": {},
   "outputs": [
    {
     "data": {
      "text/plain": [
       "[1, 2, 3, 3]"
      ]
     },
     "execution_count": 40,
     "metadata": {},
     "output_type": "execute_result"
    }
   ],
   "source": [
    "items_list # it will not remove the duplicate values"
   ]
  },
  {
   "cell_type": "code",
   "execution_count": null,
   "metadata": {},
   "outputs": [],
   "source": []
  },
  {
   "cell_type": "code",
   "execution_count": null,
   "metadata": {},
   "outputs": [],
   "source": []
  },
  {
   "cell_type": "code",
   "execution_count": null,
   "metadata": {},
   "outputs": [],
   "source": []
  }
 ],
 "metadata": {
  "kernelspec": {
   "display_name": "Python 3",
   "language": "python",
   "name": "python3"
  },
  "language_info": {
   "codemirror_mode": {
    "name": "ipython",
    "version": 3
   },
   "file_extension": ".py",
   "mimetype": "text/x-python",
   "name": "python",
   "nbconvert_exporter": "python",
   "pygments_lexer": "ipython3",
   "version": "3.11.9"
  }
 },
 "nbformat": 4,
 "nbformat_minor": 2
}
