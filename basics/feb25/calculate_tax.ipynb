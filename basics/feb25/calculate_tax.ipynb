{
 "cells": [
  {
   "cell_type": "code",
   "execution_count": null,
   "metadata": {},
   "outputs": [],
   "source": [
    "# Solution by Khaja - how to calculate tax\n",
    "salary = 1800000\n",
    "actual_salary = salary\n",
    "salary = salary - 75000 # this is standard deduction\n",
    "tax_rate = 0\n",
    "income_tax = 0\n",
    "if salary > 2400000:\n",
    "    tax_rate = 30/100   \n",
    "    difference = salary - 2400000\n",
    "    income_tax += difference * tax_rate\n",
    "    salary = 2400000\n",
    "if 2000000 < salary <= 2400000:\n",
    "    tax_rate = 25/100\n",
    "    difference = salary - 2000000\n",
    "    income_tax += difference * tax_rate\n",
    "    salary = 2000000\n",
    "if 1600000 < salary <= 2000000:\n",
    "    tax_rate = 20/100\n",
    "    difference = salary - 1600000\n",
    "    income_tax += difference * tax_rate\n",
    "    salary = 1600000\n",
    "if 1200000 < salary <= 1600000:\n",
    "    tax_rate = 15/100\n",
    "    difference = salary - 1200000\n",
    "    income_tax += difference * tax_rate\n",
    "    salary = 1200000\n",
    "if 800000 < salary <= 1200000:\n",
    "    tax_rate = 10/100\n",
    "    difference = salary - 800000\n",
    "    income_tax += difference * tax_rate \n",
    "    salary = 800000\n",
    "if 400000 < salary <= 800000:\n",
    "    tax_rate = 5/100\n",
    "    difference = salary - 400000\n",
    "    income_tax += difference * tax_rate\n",
    "    salary = 400000\n",
    "if salary <= 400000:\n",
    "    tax_rate = 0\n",
    "\n",
    "print (f\"for salary {actual_salary} tax = {income_tax}\")  "
   ]
  }
 ],
 "metadata": {
  "kernelspec": {
   "display_name": "Python 3",
   "language": "python",
   "name": "python3"
  },
  "language_info": {
   "name": "python",
   "version": "3.11.9"
  }
 },
 "nbformat": 4,
 "nbformat_minor": 2
}
