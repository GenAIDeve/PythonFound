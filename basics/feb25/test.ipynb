{
 "cells": [
  {
   "cell_type": "code",
   "execution_count": 4,
   "metadata": {},
   "outputs": [
    {
     "name": "stdout",
     "output_type": "stream",
     "text": [
      "voter id\n",
      "driving license\n",
      "aadhar card\n",
      "birth certificate\n"
     ]
    }
   ],
   "source": [
    "age = 22\n",
    "if age > 18:\n",
    "    print (\"voter id\")\n",
    "    print (\"driving license\")\n",
    "print (\"aadhar card\")\n",
    "print (\"birth certificate\")"
   ]
  },
  {
   "cell_type": "code",
   "execution_count": 5,
   "metadata": {},
   "outputs": [
    {
     "name": "stdout",
     "output_type": "stream",
     "text": [
      "aadhar card\n",
      "birth certificate\n"
     ]
    }
   ],
   "source": [
    "age = 17\n",
    "if age > 18:\n",
    "    print (\"voter id\")\n",
    "    print (\"driving license\")\n",
    "print (\"aadhar card\")\n",
    "print (\"birth certificate\")"
   ]
  },
  {
   "cell_type": "code",
   "execution_count": 10,
   "metadata": {},
   "outputs": [
    {
     "name": "stdout",
     "output_type": "stream",
     "text": [
      "under age\n",
      "aadhar card\n",
      "birth certificate\n"
     ]
    }
   ],
   "source": [
    "age = 15\n",
    "if age > 18:\n",
    "    print (\"voter id\")\n",
    "    print (\"driving license\")\n",
    "if age > 60:\n",
    "    print (\"senior citizen card\")\n",
    "else:\n",
    "    print (\"under age\")\n",
    "print (\"aadhar card\")\n",
    "print (\"birth certificate\")"
   ]
  },
  {
   "cell_type": "code",
   "execution_count": 12,
   "metadata": {},
   "outputs": [
    {
     "name": "stdout",
     "output_type": "stream",
     "text": [
      "not prime\n"
     ]
    }
   ],
   "source": [
    "# x a prime number?\n",
    "x = 8\n",
    "if x % 2 == 0:\n",
    "    print (\"not prime\")\n",
    "else:\n",
    "    print (\"prime\")\n"
   ]
  },
  {
   "cell_type": "code",
   "execution_count": 14,
   "metadata": {},
   "outputs": [
    {
     "name": "stdout",
     "output_type": "stream",
     "text": [
      "price = 330.0\n"
     ]
    }
   ],
   "source": [
    "popcorn_type = \"cheese\"\n",
    "price = 300\n",
    "gst = 0\n",
    "if popcorn_type == \"butter\":\n",
    "    gst = 5/100\n",
    "elif popcorn_type == \"cheese\":\n",
    "    gst = 10/100\n",
    "elif popcorn_type == \"caramel\":\n",
    "    gst = 15/100\n",
    "total_price = price + price * gst\n",
    "print (f\"price = {total_price}\")\n",
    "       "
   ]
  },
  {
   "cell_type": "code",
   "execution_count": 15,
   "metadata": {},
   "outputs": [
    {
     "name": "stdout",
     "output_type": "stream",
     "text": [
      "118000.0\n"
     ]
    }
   ],
   "source": [
    "education_type = 'professional'\n",
    "fees =100000\n",
    "gst = 0 if education_type == 'school' else 18/100\n",
    "total_fees = fees + fees * gst\n",
    "print (total_fees)\n"
   ]
  },
  {
   "cell_type": "code",
   "execution_count": null,
   "metadata": {},
   "outputs": [],
   "source": [
    "#Income tax calculation\n",
    "# Note this might not be comprehensive calculator\n"
   ]
  },
  {
   "cell_type": "code",
   "execution_count": null,
   "metadata": {},
   "outputs": [],
   "source": [
    "\n"
   ]
  },
  {
   "cell_type": "code",
   "execution_count": null,
   "metadata": {},
   "outputs": [
    {
     "name": "stdout",
     "output_type": "stream",
     "text": [
      "for salary 1800000 tax = 145000.0\n"
     ]
    }
   ],
   "source": [
    "# Solution by Khaja - how to calculate tax\n",
    "salary = 1800000\n",
    "actual_salary = salary\n",
    "salary = salary - 75000 # this is standard deduction\n",
    "tax_rate = 0\n",
    "income_tax = 0\n",
    "if salary > 2400000:\n",
    "    tax_rate = 30/100   \n",
    "    difference = salary - 2400000\n",
    "    income_tax += difference * tax_rate\n",
    "    salary = 2400000\n",
    "if 2000000 < salary <= 2400000:\n",
    "    tax_rate = 25/100\n",
    "    difference = salary - 2000000\n",
    "    income_tax += difference * tax_rate\n",
    "    salary = 2000000\n",
    "if 1600000 < salary <= 2000000:\n",
    "    tax_rate = 20/100\n",
    "    difference = salary - 1600000\n",
    "    income_tax += difference * tax_rate\n",
    "    salary = 1600000\n",
    "if 1200000 < salary <= 1600000:\n",
    "    tax_rate = 15/100\n",
    "    difference = salary - 1200000\n",
    "    income_tax += difference * tax_rate\n",
    "    salary = 1200000\n",
    "if 800000 < salary <= 1200000:\n",
    "    tax_rate = 10/100\n",
    "    difference = salary - 800000\n",
    "    income_tax += difference * tax_rate \n",
    "    salary = 800000\n",
    "if 400000 < salary <= 800000:\n",
    "    tax_rate = 5/100\n",
    "    difference = salary - 400000\n",
    "    income_tax += difference * tax_rate\n",
    "    salary = 400000\n",
    "if salary <= 400000:\n",
    "    tax_rate = 0\n",
    "\n",
    "print (f\"for salary {actual_salary} tax = {income_tax}\")   \n"
   ]
  }
 ],
 "metadata": {
  "kernelspec": {
   "display_name": "Python 3",
   "language": "python",
   "name": "python3"
  },
  "language_info": {
   "codemirror_mode": {
    "name": "ipython",
    "version": 3
   },
   "file_extension": ".py",
   "mimetype": "text/x-python",
   "name": "python",
   "nbconvert_exporter": "python",
   "pygments_lexer": "ipython3",
   "version": "3.11.9"
  }
 },
 "nbformat": 4,
 "nbformat_minor": 2
}
