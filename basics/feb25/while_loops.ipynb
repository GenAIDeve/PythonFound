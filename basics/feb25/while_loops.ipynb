{
 "cells": [
  {
   "cell_type": "code",
   "execution_count": null,
   "metadata": {},
   "outputs": [],
   "source": [
    "# While Loop is used when criteria is undeterministic\n"
   ]
  },
  {
   "cell_type": "code",
   "execution_count": 1,
   "metadata": {},
   "outputs": [
    {
     "name": "stdout",
     "output_type": "stream",
     "text": [
      "started\n",
      "1\n",
      "2\n",
      "3\n",
      "4\n",
      "5\n",
      "stopped\n"
     ]
    }
   ],
   "source": [
    "index = 0\n",
    "print (\"started\")\n",
    "while index <5:\n",
    "    index +=1\n",
    "    print (index)\n",
    "print (\"stopped\")"
   ]
  },
  {
   "cell_type": "code",
   "execution_count": 24,
   "metadata": {},
   "outputs": [
    {
     "name": "stdout",
     "output_type": "stream",
     "text": [
      "started\n",
      "2\n",
      "4\n",
      "6\n",
      "8\n",
      "10\n",
      "12\n",
      "14\n",
      "16\n",
      "18\n",
      "20\n",
      "22\n",
      "24\n",
      "stopped\n"
     ]
    }
   ],
   "source": [
    "index = 0\n",
    "print (\"started\")\n",
    "while index <25:\n",
    "    index +=1\n",
    "    if index%2 == 1:    # even numbers\n",
    "        continue #skip the rest of the loop\n",
    "        break    #break out of the loop\n",
    "    print (index)\n",
    "print (\"stopped\")"
   ]
  },
  {
   "cell_type": "code",
   "execution_count": 26,
   "metadata": {},
   "outputs": [
    {
     "name": "stdout",
     "output_type": "stream",
     "text": [
      "started\n",
      "23\n"
     ]
    }
   ],
   "source": [
    "result = 0\n",
    "max = 10\n",
    "index = 1\n",
    "print (\"started\")\n",
    "while index < max:\n",
    "    if (index%3 == 0) or (index%5 == 0):    # even numbers\n",
    "        result += index\n",
    "    index +=1\n",
    "print (result)"
   ]
  }
 ],
 "metadata": {
  "kernelspec": {
   "display_name": "Python 3",
   "language": "python",
   "name": "python3"
  },
  "language_info": {
   "codemirror_mode": {
    "name": "ipython",
    "version": 3
   },
   "file_extension": ".py",
   "mimetype": "text/x-python",
   "name": "python",
   "nbconvert_exporter": "python",
   "pygments_lexer": "ipython3",
   "version": "3.11.9"
  }
 },
 "nbformat": 4,
 "nbformat_minor": 2
}
